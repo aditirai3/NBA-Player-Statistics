{
 "cells": [
  {
   "cell_type": "code",
   "execution_count": 1,
   "metadata": {},
   "outputs": [],
   "source": [
    "# Import Dependencies\n",
    "from selenium import webdriver\n",
    "import requests\n",
    "import pandas as pd \n",
    "from bs4 import BeautifulSoup\n",
    "from StatPass import username, password"
   ]
  },
  {
   "cell_type": "code",
   "execution_count": 2,
   "metadata": {},
   "outputs": [],
   "source": [
    "# Stathead/Basket-ball Reference requires a login\n",
    "# We will send the Browser to a login page that will automatically redirect to our starting point\n",
    "login_address = 'https://stathead.com/users/login.cgi?token=1&redirect_uri=https%3A//www.basketball-reference.com/leagues/NBA_2020_totals.html'"
   ]
  },
  {
   "cell_type": "code",
   "execution_count": 3,
   "metadata": {},
   "outputs": [],
   "source": [
    "# Create Browser and set it to open the page in Chrome\n",
    "browser = webdriver.Chrome(executable_path=r'chromedriver.exe')\n",
    "browser.get(login_address)\n",
    "\n",
    "# Fill in the form with username and password\n",
    "user_name = browser.find_element_by_id('username')\n",
    "user_name.send_keys(username)\n",
    "pass_word = browser.find_element_by_id('password')\n",
    "pass_word.send_keys(password)\n",
    "\n",
    "# Click the login button\n",
    "browser.find_element_by_id('login').submit()"
   ]
  },
  {
   "cell_type": "code",
   "execution_count": 4,
   "metadata": {},
   "outputs": [
    {
     "data": {
      "text/plain": [
       "'https://www.basketball-reference.com/leagues/NBA_2020_totals.html'"
      ]
     },
     "execution_count": 4,
     "metadata": {},
     "output_type": "execute_result"
    }
   ],
   "source": [
    "# Confirm page address after log-in redirect\n",
    "browser.current_url"
   ]
  },
  {
   "cell_type": "code",
   "execution_count": 66,
   "metadata": {},
   "outputs": [],
   "source": [
    "# define the year of data we want to start looping\n",
    "start_year = 2020 # th\n",
    "\n",
    "# define the amount of years we want to loop\n",
    "for x in range(1, 6):\n",
    "    site_address = browser.current_url\n",
    "    year_df = pd.read_html(site_address)[0] # our data is the first table on the page\n",
    "    year_df['Season'] = \n",
    "    year_df.to_csv(f'NBA_By_Year/{start_year}Players.csv') # after extracting, save to csv by year\n",
    "    del year_df # delete the DataFrame from memory\n",
    "    start_year -= 1 # change the year to get next\n",
    "    browser.get(f'https://www.basketball-reference.com/leagues/NBA_{start_year}_totals.html') # navigate to the next year's data\n",
    "\n",
    "    \n",
    "    "
   ]
  },
  {
   "cell_type": "code",
   "execution_count": null,
   "metadata": {},
   "outputs": [],
   "source": []
  }
 ],
 "metadata": {
  "kernelspec": {
   "display_name": "Python [conda env:.conda-PythonData]*",
   "language": "python",
   "name": "myenv"
  },
  "language_info": {
   "codemirror_mode": {
    "name": "ipython",
    "version": 3
   },
   "file_extension": ".py",
   "mimetype": "text/x-python",
   "name": "python",
   "nbconvert_exporter": "python",
   "pygments_lexer": "ipython3",
   "version": "3.8.5"
  }
 },
 "nbformat": 4,
 "nbformat_minor": 4
}

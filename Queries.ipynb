{
 "cells": [
  {
   "cell_type": "code",
   "execution_count": 16,
   "metadata": {},
   "outputs": [],
   "source": [
    "from sqlalchemy import create_engine, func, inspect\n",
    "from sqlalchemy.ext.automap import automap_base\n",
    "import pandas as pd\n",
    "from sqlalchemy.orm import Session\n",
    "\n",
    "import matplotlib"
   ]
  },
  {
   "cell_type": "code",
   "execution_count": 24,
   "metadata": {},
   "outputs": [],
   "source": [
    "engine = create_engine(\"sqlite:///PlayerStats.sqlite\", echo=True)"
   ]
  },
  {
   "cell_type": "code",
   "execution_count": 25,
   "metadata": {},
   "outputs": [
    {
     "data": {
      "text/plain": [
       "sqlalchemy.ext.automap.Base"
      ]
     },
     "execution_count": 25,
     "metadata": {},
     "output_type": "execute_result"
    }
   ],
   "source": [
    "Base = automap_base()\n",
    "Base"
   ]
  },
  {
   "cell_type": "code",
   "execution_count": 26,
   "metadata": {},
   "outputs": [
    {
     "name": "stdout",
     "output_type": "stream",
     "text": [
      "2021-02-06 14:02:26,481 INFO sqlalchemy.engine.base.Engine SELECT CAST('test plain returns' AS VARCHAR(60)) AS anon_1\n",
      "2021-02-06 14:02:26,506 INFO sqlalchemy.engine.base.Engine ()\n",
      "2021-02-06 14:02:26,529 INFO sqlalchemy.engine.base.Engine SELECT CAST('test unicode returns' AS VARCHAR(60)) AS anon_1\n",
      "2021-02-06 14:02:26,537 INFO sqlalchemy.engine.base.Engine ()\n",
      "2021-02-06 14:02:26,567 INFO sqlalchemy.engine.base.Engine SELECT name FROM sqlite_master WHERE type='table' ORDER BY name\n",
      "2021-02-06 14:02:26,584 INFO sqlalchemy.engine.base.Engine ()\n",
      "2021-02-06 14:02:26,590 INFO sqlalchemy.engine.base.Engine PRAGMA main.table_xinfo(\"data\")\n",
      "2021-02-06 14:02:26,601 INFO sqlalchemy.engine.base.Engine ()\n",
      "2021-02-06 14:02:26,622 INFO sqlalchemy.engine.base.Engine SELECT sql FROM  (SELECT * FROM sqlite_master UNION ALL   SELECT * FROM sqlite_temp_master) WHERE name = ? AND type = 'table'\n",
      "2021-02-06 14:02:26,627 INFO sqlalchemy.engine.base.Engine ('data',)\n",
      "2021-02-06 14:02:26,631 INFO sqlalchemy.engine.base.Engine PRAGMA main.foreign_key_list(\"data\")\n",
      "2021-02-06 14:02:26,644 INFO sqlalchemy.engine.base.Engine ()\n",
      "2021-02-06 14:02:26,650 INFO sqlalchemy.engine.base.Engine PRAGMA temp.foreign_key_list(\"data\")\n",
      "2021-02-06 14:02:26,655 INFO sqlalchemy.engine.base.Engine ()\n",
      "2021-02-06 14:02:26,660 INFO sqlalchemy.engine.base.Engine SELECT sql FROM  (SELECT * FROM sqlite_master UNION ALL   SELECT * FROM sqlite_temp_master) WHERE name = ? AND type = 'table'\n",
      "2021-02-06 14:02:26,670 INFO sqlalchemy.engine.base.Engine ('data',)\n",
      "2021-02-06 14:02:26,678 INFO sqlalchemy.engine.base.Engine PRAGMA main.index_list(\"data\")\n",
      "2021-02-06 14:02:26,686 INFO sqlalchemy.engine.base.Engine ()\n",
      "2021-02-06 14:02:26,690 INFO sqlalchemy.engine.base.Engine PRAGMA main.index_info(\"ix_data_index\")\n",
      "2021-02-06 14:02:26,720 INFO sqlalchemy.engine.base.Engine ()\n",
      "2021-02-06 14:02:26,728 INFO sqlalchemy.engine.base.Engine PRAGMA main.index_list(\"data\")\n",
      "2021-02-06 14:02:26,731 INFO sqlalchemy.engine.base.Engine ()\n",
      "2021-02-06 14:02:26,733 INFO sqlalchemy.engine.base.Engine PRAGMA main.index_info(\"ix_data_index\")\n",
      "2021-02-06 14:02:26,736 INFO sqlalchemy.engine.base.Engine ()\n",
      "2021-02-06 14:02:26,738 INFO sqlalchemy.engine.base.Engine SELECT sql FROM  (SELECT * FROM sqlite_master UNION ALL   SELECT * FROM sqlite_temp_master) WHERE name = ? AND type = 'table'\n",
      "2021-02-06 14:02:26,742 INFO sqlalchemy.engine.base.Engine ('data',)\n"
     ]
    },
    {
     "data": {
      "text/plain": [
       "sqlalchemy.ext.automap.Base"
      ]
     },
     "execution_count": 26,
     "metadata": {},
     "output_type": "execute_result"
    }
   ],
   "source": [
    "Base.prepare(engine, reflect=True)\n",
    "Base"
   ]
  },
  {
   "cell_type": "code",
   "execution_count": 32,
   "metadata": {},
   "outputs": [
    {
     "data": {
      "text/plain": [
       "<sqlalchemy.util._collections.Properties at 0x7fe5f827ca90>"
      ]
     },
     "execution_count": 32,
     "metadata": {},
     "output_type": "execute_result"
    }
   ],
   "source": [
    "Base.classes"
   ]
  },
  {
   "cell_type": "code",
   "execution_count": 3,
   "metadata": {},
   "outputs": [
    {
     "data": {
      "text/plain": [
       "['data']"
      ]
     },
     "execution_count": 3,
     "metadata": {},
     "output_type": "execute_result"
    }
   ],
   "source": [
    "inspector = inspect(engine)\n",
    "inspector.get_table_names()"
   ]
  },
  {
   "cell_type": "code",
   "execution_count": 15,
   "metadata": {},
   "outputs": [
    {
     "name": "stdout",
     "output_type": "stream",
     "text": [
      "index BIGINT\n",
      "Player TEXT\n",
      "Pos TEXT\n",
      "Age BIGINT\n",
      "Tm TEXT\n",
      "G BIGINT\n",
      "GS BIGINT\n",
      "MP BIGINT\n",
      "FG BIGINT\n",
      "FGA BIGINT\n",
      "FG% FLOAT\n",
      "3P BIGINT\n",
      "3PA BIGINT\n",
      "3P% FLOAT\n",
      "2P BIGINT\n",
      "2PA BIGINT\n",
      "2P% FLOAT\n",
      "eFG% FLOAT\n",
      "FT BIGINT\n",
      "FTA BIGINT\n",
      "FT% FLOAT\n",
      "ORB BIGINT\n",
      "DRB BIGINT\n",
      "TRB BIGINT\n",
      "AST BIGINT\n",
      "STL BIGINT\n",
      "BLK BIGINT\n",
      "TOV BIGINT\n",
      "PF BIGINT\n",
      "PTS BIGINT\n",
      "Season BIGINT\n",
      "Country TEXT\n"
     ]
    }
   ],
   "source": [
    "columns = inspector.get_columns('data')\n",
    "for x in columns:\n",
    "    print(x['name'], x['type'])"
   ]
  },
  {
   "cell_type": "code",
   "execution_count": 12,
   "metadata": {},
   "outputs": [],
   "source": [
    "Base = automap_base()"
   ]
  },
  {
   "cell_type": "code",
   "execution_count": 13,
   "metadata": {},
   "outputs": [],
   "source": []
  },
  {
   "cell_type": "code",
   "execution_count": 14,
   "metadata": {},
   "outputs": [
    {
     "data": {
      "text/plain": [
       "[]"
      ]
     },
     "execution_count": 14,
     "metadata": {},
     "output_type": "execute_result"
    }
   ],
   "source": [
    "Base.classes.keys()"
   ]
  },
  {
   "cell_type": "code",
   "execution_count": 18,
   "metadata": {},
   "outputs": [],
   "source": [
    "session = Session(engine)"
   ]
  },
  {
   "cell_type": "code",
   "execution_count": 28,
   "metadata": {},
   "outputs": [],
   "source": [
    "mins_country = engine.execute().fetchall()"
   ]
  },
  {
   "cell_type": "code",
   "execution_count": 10,
   "metadata": {},
   "outputs": [],
   "source": [
    "df = pd.read_sql(\"SELECT Player, MP, Country FROM data\", con=engine)"
   ]
  },
  {
   "cell_type": "code",
   "execution_count": 11,
   "metadata": {},
   "outputs": [
    {
     "data": {
      "text/html": [
       "<div>\n",
       "<style scoped>\n",
       "    .dataframe tbody tr th:only-of-type {\n",
       "        vertical-align: middle;\n",
       "    }\n",
       "\n",
       "    .dataframe tbody tr th {\n",
       "        vertical-align: top;\n",
       "    }\n",
       "\n",
       "    .dataframe thead th {\n",
       "        text-align: right;\n",
       "    }\n",
       "</style>\n",
       "<table border=\"1\" class=\"dataframe\">\n",
       "  <thead>\n",
       "    <tr style=\"text-align: right;\">\n",
       "      <th></th>\n",
       "      <th>Player</th>\n",
       "      <th>MP</th>\n",
       "      <th>Country</th>\n",
       "    </tr>\n",
       "  </thead>\n",
       "  <tbody>\n",
       "    <tr>\n",
       "      <th>0</th>\n",
       "      <td>Steven Adams</td>\n",
       "      <td>1680</td>\n",
       "      <td>New Zealand</td>\n",
       "    </tr>\n",
       "    <tr>\n",
       "      <th>1</th>\n",
       "      <td>Bam Adebayo</td>\n",
       "      <td>2417</td>\n",
       "      <td>United States</td>\n",
       "    </tr>\n",
       "    <tr>\n",
       "      <th>2</th>\n",
       "      <td>LaMarcus Aldridge</td>\n",
       "      <td>1754</td>\n",
       "      <td>United States</td>\n",
       "    </tr>\n",
       "    <tr>\n",
       "      <th>3</th>\n",
       "      <td>Kyle Alexander</td>\n",
       "      <td>13</td>\n",
       "      <td>Canada</td>\n",
       "    </tr>\n",
       "    <tr>\n",
       "      <th>4</th>\n",
       "      <td>Nickeil Alexander-Walker</td>\n",
       "      <td>591</td>\n",
       "      <td>Canada</td>\n",
       "    </tr>\n",
       "    <tr>\n",
       "      <th>...</th>\n",
       "      <td>...</td>\n",
       "      <td>...</td>\n",
       "      <td>...</td>\n",
       "    </tr>\n",
       "    <tr>\n",
       "      <th>13559</th>\n",
       "      <td>Haywoode Workman</td>\n",
       "      <td>2034</td>\n",
       "      <td>United States</td>\n",
       "    </tr>\n",
       "    <tr>\n",
       "      <th>13560</th>\n",
       "      <td>James Worthy</td>\n",
       "      <td>3008</td>\n",
       "      <td>United States</td>\n",
       "    </tr>\n",
       "    <tr>\n",
       "      <th>13561</th>\n",
       "      <td>Howard Wright</td>\n",
       "      <td>164</td>\n",
       "      <td>United States</td>\n",
       "    </tr>\n",
       "    <tr>\n",
       "      <th>13562</th>\n",
       "      <td>A.J. Wynder</td>\n",
       "      <td>39</td>\n",
       "      <td>United States</td>\n",
       "    </tr>\n",
       "    <tr>\n",
       "      <th>13563</th>\n",
       "      <td>Danny Young</td>\n",
       "      <td>897</td>\n",
       "      <td>United States</td>\n",
       "    </tr>\n",
       "  </tbody>\n",
       "</table>\n",
       "<p>13564 rows × 3 columns</p>\n",
       "</div>"
      ],
      "text/plain": [
       "                         Player    MP        Country\n",
       "0                  Steven Adams  1680    New Zealand\n",
       "1                   Bam Adebayo  2417  United States\n",
       "2             LaMarcus Aldridge  1754  United States\n",
       "3                Kyle Alexander    13         Canada\n",
       "4      Nickeil Alexander-Walker   591         Canada\n",
       "...                         ...   ...            ...\n",
       "13559          Haywoode Workman  2034  United States\n",
       "13560              James Worthy  3008  United States\n",
       "13561             Howard Wright   164  United States\n",
       "13562               A.J. Wynder    39  United States\n",
       "13563               Danny Young   897  United States\n",
       "\n",
       "[13564 rows x 3 columns]"
      ]
     },
     "execution_count": 11,
     "metadata": {},
     "output_type": "execute_result"
    }
   ],
   "source": [
    "df"
   ]
  },
  {
   "cell_type": "code",
   "execution_count": null,
   "metadata": {},
   "outputs": [],
   "source": []
  }
 ],
 "metadata": {
  "kernelspec": {
   "display_name": "Python (PythonData)",
   "language": "python",
   "name": "myenv"
  },
  "language_info": {
   "codemirror_mode": {
    "name": "ipython",
    "version": 3
   },
   "file_extension": ".py",
   "mimetype": "text/x-python",
   "name": "python",
   "nbconvert_exporter": "python",
   "pygments_lexer": "ipython3",
   "version": "3.8.3"
  }
 },
 "nbformat": 4,
 "nbformat_minor": 4
}
